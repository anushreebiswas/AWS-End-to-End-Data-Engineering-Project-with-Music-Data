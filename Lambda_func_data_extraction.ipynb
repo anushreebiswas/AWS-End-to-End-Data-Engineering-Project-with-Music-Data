{
 "cells": [
  {
   "cell_type": "code",
   "execution_count": null,
   "id": "dc1646cf-cd7f-4f72-b522-c96dcfa4eb07",
   "metadata": {},
   "outputs": [],
   "source": [
    "import json\n",
    "import os\n",
    "import spotipy\n",
    "from spotipy.oauth2 import SpotifyClientCredentials\n",
    "import boto3\n",
    "from datetime import datetime\n",
    "\n",
    "def lambda_handler(event, context):\n",
    "    \n",
    "    cilent_id = os.environ.get('client_id')\n",
    "    client_secret = os.environ.get('client_secret')\n",
    "    \n",
    "    client_credentials_manager = SpotifyClientCredentials(client_id=cilent_id, client_secret=client_secret)\n",
    "    sp = spotipy.Spotify(client_credentials_manager = client_credentials_manager)\n",
    "    playlists = sp.user_playlists('spotify')\n",
    "    \n",
    "    playlist_link = \"https://open.spotify.com/playlist/1KNl4AYfgZtOVm9KHkhPTF\"\n",
    "    playlist_URI=playlist_link.split(\"/\")[-1]\n",
    "    \n",
    "    spotify_data = sp.playlist_tracks(playlist_URI)   \n",
    "    \n",
    "    cilent = boto3.client('s3')\n",
    "    \n",
    "    filename = \"spotify_raw_\" + str(datetime.now()) + \".json\"\n",
    "    \n",
    "    cilent.put_object(\n",
    "        Bucket=\"spotify-etl\",\n",
    "        Key=\"raw-data/to_processed/\" + filename,\n",
    "        Body=json.dumps(spotify_data)\n",
    "        )\n",
    "\n",
    "\n",
    "#Start glue job\n",
    "glue = boto3.client(\"glue\")\n",
    "gluejobname = \"spotify_transformation_job\"\n",
    "\n",
    "    try:\n",
    "        runId = glue.start_job_run(JobName=gluejobname)\n",
    "        status = glue.get_job_run(JobName=gluejobname, RunId=runId['JobRunId'])\n",
    "        print(\"Job Status: \", status['JobRun']['JobRunState'])\n",
    "    except Exception as e:\n",
    "        print(e)"
   ]
  }
 ],
 "metadata": {
  "kernelspec": {
   "display_name": "Python 3 (ipykernel)",
   "language": "python",
   "name": "python3"
  },
  "language_info": {
   "codemirror_mode": {
    "name": "ipython",
    "version": 3
   },
   "file_extension": ".py",
   "mimetype": "text/x-python",
   "name": "python",
   "nbconvert_exporter": "python",
   "pygments_lexer": "ipython3",
   "version": "3.12.7"
  }
 },
 "nbformat": 4,
 "nbformat_minor": 5
}
