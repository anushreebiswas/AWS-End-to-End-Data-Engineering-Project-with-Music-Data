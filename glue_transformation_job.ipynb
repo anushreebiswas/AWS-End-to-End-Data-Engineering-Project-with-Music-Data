{
	"metadata": {
		"kernelspec": {
			"name": "glue_pyspark",
			"display_name": "Glue PySpark",
			"language": "python"
		},
		"language_info": {
			"name": "Python_Glue_Session",
			"mimetype": "text/x-python",
			"codemirror_mode": {
				"name": "python",
				"version": 3
			},
			"pygments_lexer": "python3",
			"file_extension": ".py"
		}
	},
	"nbformat_minor": 4,
	"nbformat": 4,
	"cells": [
		{
			"cell_type": "markdown",
			"source": "####  Run this cell to set up and start your interactive session.\n",
			"metadata": {
				"editable": true,
				"trusted": true
			}
		},
		{
			"cell_type": "code",
			"source": "%idle_timeout 2880\n%glue_version 5.0\n%worker_type G.1X\n%number_of_workers 5\n\nimport sys\nfrom awsglue.transforms import *\nfrom awsglue.utils import getResolvedOptions\nfrom pyspark.context import SparkContext\nfrom awsglue.context import GlueContext\nfrom awsglue.job import Job\n  \nsc = SparkContext.getOrCreate()\nglueContext = GlueContext(sc)\nspark = glueContext.spark_session\njob = Job(glueContext)",
			"metadata": {
				"trusted": true,
				"editable": true
			},
			"execution_count": 5,
			"outputs": [
				{
					"name": "stderr",
					"text": "You are already connected to a glueetl session 702cac6c-e2f4-4e12-970b-581e2d7b8100.\n\nNo change will be made to the current session that is set as glueetl. The session configuration change will apply to newly created sessions.\n",
					"output_type": "stream"
				},
				{
					"name": "stdout",
					"text": "Current idle_timeout is 2880 minutes.\nidle_timeout has been set to 2880 minutes.\n",
					"output_type": "stream"
				},
				{
					"name": "stderr",
					"text": "You are already connected to a glueetl session 702cac6c-e2f4-4e12-970b-581e2d7b8100.\n\nNo change will be made to the current session that is set as glueetl. The session configuration change will apply to newly created sessions.\n",
					"output_type": "stream"
				},
				{
					"name": "stdout",
					"text": "Setting Glue version to: 5.0\n",
					"output_type": "stream"
				},
				{
					"name": "stderr",
					"text": "You are already connected to a glueetl session 702cac6c-e2f4-4e12-970b-581e2d7b8100.\n\nNo change will be made to the current session that is set as glueetl. The session configuration change will apply to newly created sessions.\n",
					"output_type": "stream"
				},
				{
					"name": "stdout",
					"text": "Previous worker type: G.1X\nSetting new worker type to: G.1X\n",
					"output_type": "stream"
				},
				{
					"name": "stderr",
					"text": "You are already connected to a glueetl session 702cac6c-e2f4-4e12-970b-581e2d7b8100.\n\nNo change will be made to the current session that is set as glueetl. The session configuration change will apply to newly created sessions.\n",
					"output_type": "stream"
				},
				{
					"name": "stdout",
					"text": "Previous number of workers: 5\nSetting new number of workers to: 5\n\n",
					"output_type": "stream"
				}
			]
		},
		{
			"cell_type": "code",
			"source": "import sys\nfrom awsglue.transforms import *\nfrom awsglue.utils import getResolvedOptions\nfrom pyspark.context import SparkContext\nfrom awsglue.context import GlueContext\nfrom awsglue.job import Job\nfrom pyspark.sql.functions import explode, col, to_date\nfrom datetime import datetime\nfrom awsglue.dynamicframe import DynamicFrame",
			"metadata": {
				"trusted": true,
				"tags": []
			},
			"execution_count": 12,
			"outputs": [
				{
					"name": "stdout",
					"text": "\n",
					"output_type": "stream"
				}
			]
		},
		{
			"cell_type": "code",
			"source": "sc = SparkContext.getOrCreate()\nglueContext = GlueContext(sc)\nspark = glueContext.spark_session\njob = Job(glueContext)",
			"metadata": {
				"trusted": true,
				"tags": []
			},
			"execution_count": 16,
			"outputs": [
				{
					"name": "stdout",
					"text": "\n",
					"output_type": "stream"
				}
			]
		},
		{
			"cell_type": "code",
			"source": "\ns3_path = \"s3://spotify-etl/raw-data/to_processed/\"\nsource_dyf = glueContext.create_dynamic_frame_from_options(\n    connection_type=\"s3\",\n    connection_options={\"paths\":[s3_path]},\n    format=\"json\"\n)\n\nspotify_df = source_dyf.toDF()",
			"metadata": {
				"trusted": true,
				"tags": []
			},
			"execution_count": 17,
			"outputs": [
				{
					"name": "stdout",
					"text": "\n",
					"output_type": "stream"
				}
			]
		},
		{
			"cell_type": "code",
			"source": "spotify_df\n",
			"metadata": {
				"trusted": true,
				"tags": []
			},
			"execution_count": 18,
			"outputs": [
				{
					"name": "stdout",
					"text": "DataFrame[href: string, items: array<struct<added_at:string,added_by:struct<external_urls:struct<spotify:string>,href:string,id:string,type:string,uri:string>,is_local:boolean,primary_color:void,track:struct<preview_url:void,available_markets:array<string>,explicit:boolean,type:string,episode:boolean,track:boolean,album:struct<available_markets:array<string>,type:string,album_type:string,href:string,id:string,images:array<struct<height:int,url:string,width:int>>,name:string,release_date:string,release_date_precision:string,uri:string,artists:array<struct<external_urls:struct<spotify:string>,href:string,id:string,name:string,type:string,uri:string>>,external_urls:struct<spotify:string>,total_tracks:int>,artists:array<struct<external_urls:struct<spotify:string>,href:string,id:string,name:string,type:string,uri:string>>,disc_number:int,track_number:int,duration_ms:int,external_ids:struct<isrc:string>,external_urls:struct<spotify:string>,href:string,id:string,name:string,popularity:int,uri:string,is_local:boolean>,video_thumbnail:struct<url:void>>>, limit: int, next: void, offset: int, previous: void, total: int]\n",
					"output_type": "stream"
				}
			]
		},
		{
			"cell_type": "code",
			"source": "\ndef process_albums(df):\n    df = df.withColumn(\"items\", explode(\"items\")).select(\n        col(\"items.track.album.id\").alias(\"album_id\"),\n        col(\"items.track.album.name\").alias(\"album_name\"),\n        col(\"items.track.album.release_date\").alias(\"release_date\"),\n        col(\"items.track.album.total_tracks\").alias(\"total_tracks\"),\n        col(\"items.track.album.external_urls.spotify\").alias(\"url\")\n    ).drop_duplicates([\"album_id\"])\n    return df\n\n\ndef process_artists(df):\n    # First, explode the items to get individual tracks\n    df_items_exploded = df.select(explode(col(\"items\")).alias(\"item\"))\n    \n    # Then, explode the artists array within each item to create a row for each artist\n    df_artists_exploded = df_items_exploded.select(explode(col(\"item.track.artists\")).alias(\"artist\"))\n    \n    # Now, select the artist attributes, ensuring each artist is in its own row\n    df_artists = df_artists_exploded.select(\n        col(\"artist.id\").alias(\"artist_id\"),\n        col(\"artist.name\").alias(\"artist_name\"),\n        col(\"artist.external_urls.spotify\").alias(\"external_url\")\n    ).drop_duplicates([\"artist_id\"])\n    \n    return df_artists\n\n\ndef process_songs(df):\n    # Explode the items array to create a row for each song\n    df_exploded = df.select(explode(col(\"items\")).alias(\"item\"))\n    \n    # Extract song information from the exploded DataFrame\n    df_songs = df_exploded.select(\n        col(\"item.track.id\").alias(\"song_id\"),\n        col(\"item.track.name\").alias(\"song_name\"),\n        col(\"item.track.duration_ms\").alias(\"duration_ms\"),\n        col(\"item.track.external_urls.spotify\").alias(\"url\"),\n        col(\"item.track.popularity\").alias(\"popularity\"),\n        col(\"item.added_at\").alias(\"song_added\"),\n        col(\"item.track.album.id\").alias(\"album_id\"),\n        col(\"item.track.artists\")[0][\"id\"].alias(\"artist_id\")\n    ).drop_duplicates([\"song_id\"])\n    \n    # Convert string dates in 'song_added' to actual date types\n    df_songs = df_songs.withColumn(\"song_added\", to_date(col(\"song_added\")))\n    \n    return df_songs\n\n\n\n",
			"metadata": {
				"trusted": true,
				"tags": []
			},
			"execution_count": 19,
			"outputs": [
				{
					"name": "stdout",
					"text": "\n",
					"output_type": "stream"
				}
			]
		},
		{
			"cell_type": "code",
			"source": "#process data\nalbum_df = process_albums(spotify_df)\nartist_df = process_artists(spotify_df)\nsong_df = process_songs(spotify_df)\n\n\ndef write_to_s3(df, path_suffix, format_type=\"csv\"):\n    # Convert back to DynamicFrame\n    dynamic_frame = DynamicFrame.fromDF(df, glueContext, \"dynamic_frame\")\n    \n    glueContext.write_dynamic_frame.from_options(\n        frame = dynamic_frame,\n        connection_type = \"s3\",\n        connection_options = {\"path\": f\"s3://spotify-etl-anushree/transformed-data/{path_suffix}/\"},\n        format = format_type\n    )\n\n#write data to s3   \nwrite_to_s3(album_df, \"album/album_transformed_{}\".format(datetime.now().strftime(\"%Y-%m-%d\")), \"csv\")\nwrite_to_s3(artist_df, \"artist/artist_transformed_{}\".format(datetime.now().strftime(\"%Y-%m-%d\")), \"csv\")\nwrite_to_s3(song_df, \"songs/songs_transformed_{}\".format(datetime.now().strftime(\"%Y-%m-%d\")), \"csv\")",
			"metadata": {
				"trusted": true,
				"tags": []
			},
			"execution_count": 20,
			"outputs": [
				{
					"name": "stdout",
					"text": "\n",
					"output_type": "stream"
				}
			]
		},
		{
			"cell_type": "code",
			"source": "job.commit()",
			"metadata": {
				"trusted": true,
				"tags": []
			},
			"execution_count": 21,
			"outputs": [
				{
					"name": "stdout",
					"text": "\n",
					"output_type": "stream"
				}
			]
		},
		{
			"cell_type": "code",
			"source": "",
			"metadata": {},
			"execution_count": null,
			"outputs": []
		},
		{
			"cell_type": "code",
			"source": "",
			"metadata": {},
			"execution_count": null,
			"outputs": []
		},
		{
			"cell_type": "code",
			"source": "",
			"metadata": {},
			"execution_count": null,
			"outputs": []
		}
	]
}
